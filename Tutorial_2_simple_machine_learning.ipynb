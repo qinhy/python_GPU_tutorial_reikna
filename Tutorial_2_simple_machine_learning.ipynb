{
 "cells": [
  {
   "cell_type": "markdown",
   "metadata": {},
   "source": [
    "## 1. Set up a Neural Networks \n",
    "set up MNIST data sets"
   ]
  },
  {
   "cell_type": "code",
   "execution_count": 706,
   "metadata": {},
   "outputs": [
    {
     "name": "stdout",
     "output_type": "stream",
     "text": [
      "X_train.shape (60000, 784)\n",
      "y_train.shape (60000, 10)\n"
     ]
    }
   ],
   "source": [
    "from keras.datasets import mnist\n",
    "from keras.utils import np_utils\n",
    "\n",
    "# set up MNIST data sets, required keras lib\n",
    "(X_train, y_train), (X_test, y_test) = mnist.load_data()\n",
    "X_train = X_train.reshape(60000, 784)/255.0\n",
    "X_test = X_test.reshape(10000, 784)/255.0\n",
    "\n",
    "y_train = np_utils.to_categorical(y_train)\n",
    "y_test = np_utils.to_categorical(y_test)\n",
    "\n",
    "print('X_train.shape',X_train.shape)\n",
    "print('y_train.shape',y_train.shape)"
   ]
  },
  {
   "cell_type": "markdown",
   "metadata": {},
   "source": [
    "set up Neural Networks"
   ]
  },
  {
   "cell_type": "code",
   "execution_count": 707,
   "metadata": {},
   "outputs": [],
   "source": [
    "import numpy as np\n",
    "import reikna.cluda as cluda\n",
    "from reikna.core import Type\n",
    "from reikna.cbrng import CBRNG\n",
    "from reikna.cbrng.samplers import uniform_float\n",
    "from reikna.cbrng.bijections import threefry\n",
    "\n",
    "api = cluda.ocl_api()#.cuda_api() switch opencl and cuda\n",
    "thr = api.Thread.create()"
   ]
  },
  {
   "cell_type": "code",
   "execution_count": 708,
   "metadata": {},
   "outputs": [
    {
     "name": "stdout",
     "output_type": "stream",
     "text": [
      "before random set\n",
      "[[ 0.  0.  0. ...,  0.  0.  0.]\n",
      " [ 0.  0.  0. ...,  0.  0.  0.]\n",
      " [ 0.  0.  0. ...,  0.  0.  0.]\n",
      " ..., \n",
      " [ 0.  0.  0. ...,  0.  0.  0.]\n",
      " [ 0.  0.  0. ...,  0.  0.  0.]\n",
      " [ 0.  0.  0. ...,  0.  0.  0.]]\n",
      "\n",
      "after random set\n",
      "[[ 0.22819683  0.24527091  0.83517373 ...,  0.29089949  0.45058417\n",
      "   0.52518374]\n",
      " [ 0.85281593  0.81345785  0.09425479 ...,  0.34834602  0.20637314\n",
      "   0.04884203]\n",
      " [ 0.6472804   0.18995953  0.2313401  ...,  0.46528244  0.27973965\n",
      "   0.23528051]\n",
      " ..., \n",
      " [ 0.41609126  0.47612658  0.2670033  ...,  0.67392647  0.47403955\n",
      "   0.46945018]\n",
      " [ 0.35290349  0.63495708  0.06728859 ...,  0.98033309  0.38221839\n",
      "   0.54361045]\n",
      " [ 0.11656856  0.27305785  0.25426731 ...,  0.36772919  0.81402475\n",
      "   0.3140361 ]]\n"
     ]
    }
   ],
   "source": [
    "import os\n",
    "os.environ['PYOPENCL_COMPILER_OUTPUT'] = '-1'\n",
    "'input :784 units, output layer:10 units'\n",
    "layers=(784, 10)\n",
    "NN = np.zeros(layers).astype(np.float32)\n",
    "NN_dev = thr.to_device(NN)\n",
    "print('before random set')\n",
    "print(NN_dev.get())\n",
    "\n",
    "'set up GPU random set Neural Networks fun'\n",
    "rng = CBRNG(Type(np.float32 , shape=layers), 1, uniform_float(threefry(32, 4), np.float32 ))\n",
    "counters_dev = thr.to_device(rng.create_counters())\n",
    "GPU_randomSet=rng.compile(thr)\n",
    "\n",
    "GPU_randomSet(counters_dev, NN_dev)\n",
    "print()\n",
    "print('after random set')\n",
    "print(NN_dev.get())"
   ]
  },
  {
   "cell_type": "markdown",
   "metadata": {},
   "source": [
    "rearrange the weights in [ -1 , 1 ]"
   ]
  },
  {
   "cell_type": "code",
   "execution_count": null,
   "metadata": {},
   "outputs": [],
   "source": [
    "program = thr.compile(\"\"\"\n",
    "KERNEL void gpu_rearrange(\n",
    "    GLOBAL_MEM float *input,\n",
    "    const float from,\n",
    "    const float to\n",
    "    )\n",
    "{\n",
    "    const SIZE_T id0 = get_global_id(0);\n",
    "    const SIZE_T id1 = get_global_id(1);\n",
    "    int IDX = id0*get_global_size(1)+id1;\n",
    "    input[IDX] = from+input[IDX] * (to-from) ; // calculate product value, it can be +,/,<... etc.\n",
    "}\n",
    "\"\"\")\n",
    "#have attention to the function name if it is same as above\n",
    "GPUrearrange = program.gpu_rearrange"
   ]
  },
  {
   "cell_type": "code",
   "execution_count": null,
   "metadata": {},
   "outputs": [],
   "source": [
    "GPUrearrange(NN_dev, (np.float32)(-1.0), (np.float32)(1.0), local_size=(1,1), global_size=NN_dev.shape)\n",
    "NN_dev"
   ]
  },
  {
   "cell_type": "markdown",
   "metadata": {},
   "source": [
    "set up GPU feedforward fun"
   ]
  },
  {
   "cell_type": "code",
   "execution_count": 739,
   "metadata": {},
   "outputs": [],
   "source": [
    "from reikna.linalg import MatrixMul\n",
    "'set up GPU feedforward fun'\n",
    "batchSize = 60000\n",
    "getRandBatch = lambda : np.random.choice(np.arange(len(X_train)),batchSize)\n",
    "\n",
    "batchTrain = X_train[getRandBatch(),:].copy().astype(np.float32)\n",
    "batchTrain_dev = thr.to_device(batchTrain)\n",
    "\n",
    "predict_dev = thr.array((batchSize,layers[-1]), dtype=np.float32)\n",
    "\n",
    "GPUfeedforward = MatrixMul(batchTrain_dev, NN_dev, out_arr=predict_dev).compile(thr)"
   ]
  },
  {
   "cell_type": "code",
   "execution_count": 740,
   "metadata": {},
   "outputs": [
    {
     "name": "stdout",
     "output_type": "stream",
     "text": [
      "[[ 5.45752048  0.61648786  5.63830566 ...,  4.54402876  4.45077896\n",
      "   5.38192654]\n",
      " [ 2.59078813  4.14450932  3.84620118 ...,  3.42415428  3.1559236\n",
      "   2.82430506]\n",
      " [ 1.09660375  2.34249163  1.06969988 ...,  5.81089449  3.90435743\n",
      "   5.16018057]\n",
      " ..., \n",
      " [ 1.71481991  3.92238975  6.3789053  ...,  4.45873117  7.23615074\n",
      "   5.70820808]\n",
      " [ 0.84289247  3.48989296  2.84652066 ...,  7.20613623  6.45906734\n",
      "   9.21541023]\n",
      " [ 3.74016953  3.06753683  4.05717421 ...,  4.07021856  4.7097764\n",
      "   4.49157715]]\n",
      "Check GPU result with CPU result if they are the same :\n",
      "True\n"
     ]
    }
   ],
   "source": [
    "GPUfeedforward(predict_dev, batchTrain_dev, NN_dev)\n",
    "print(predict_dev)\n",
    "print(\"Check GPU result with CPU result if they are the same :\")\n",
    "print(np.linalg.norm(predict_dev.get() - batchTrain.dot(NN_dev.get())) / np.linalg.norm(batchTrain.dot(NN_dev.get())) < 1e-6)"
   ]
  },
  {
   "cell_type": "markdown",
   "metadata": {},
   "source": [
    "Pre-reading: http://cs231n.github.io/linear-classify/#softmax"
   ]
  },
  {
   "cell_type": "code",
   "execution_count": 741,
   "metadata": {},
   "outputs": [
    {
     "data": {
      "text/plain": [
       "array([[  1.58712178e-01,   1.25365064e-03,   1.90162227e-01, ...,\n",
       "          6.36628121e-02,   5.79946525e-02,   1.47156760e-01],\n",
       "       [  1.93628371e-02,   9.15675387e-02,   6.79497644e-02, ...,\n",
       "          4.45548818e-02,   3.40725146e-02,   2.44559254e-02],\n",
       "       [  3.48071521e-03,   1.20990323e-02,   3.38831800e-03, ...,\n",
       "          3.88202995e-01,   5.76846600e-02,   2.02515095e-01],\n",
       "       ..., \n",
       "       [  1.25370175e-03,   1.14006512e-02,   1.32978305e-01, ...,\n",
       "          1.94921512e-02,   3.13384682e-01,   6.79987147e-02],\n",
       "       [  1.72172862e-04,   2.42964225e-03,   1.27681857e-03, ...,\n",
       "          9.98817757e-02,   4.73193042e-02,   7.44908392e-01],\n",
       "       [  3.65274884e-02,   1.86422858e-02,   5.01525700e-02, ...,\n",
       "          5.08110672e-02,   9.63196158e-02,   7.74376243e-02]], dtype=float32)"
      ]
     },
     "execution_count": 741,
     "metadata": {},
     "output_type": "execute_result"
    }
   ],
   "source": [
    "'set up a GPU softmax fun'\n",
    "program = thr.compile(\"\"\"\n",
    "KERNEL void gpu_softmax(\n",
    "    GLOBAL_MEM float *input\n",
    "    )\n",
    "{\n",
    "    const SIZE_T i0 = get_global_id(0);\n",
    "    const SIZE_T i1 = get_global_id(1);\n",
    "    //why terminate?  because softmax need to sum up from [i,0] to [i,end]\n",
    "    if(i1>0)return;\n",
    "\n",
    "    int IDX = i0*get_global_size(1)+i1;\n",
    "    float s = 0.0;\n",
    "    float max = 0.0;\n",
    "    for(int i=0;i<get_global_size(1);i++){\n",
    "        if(max<input[IDX+i])max=input[IDX+i];\n",
    "    }\n",
    "    for(int i=0;i<get_global_size(1);i++){\n",
    "      input[IDX+i]=exp(input[IDX+i]-max);\n",
    "      s+=input[IDX+i];\n",
    "    };\n",
    "    for(int i=0;i<get_global_size(1);i++){\n",
    "      input[IDX+i]/=s;\n",
    "    };\n",
    "}\n",
    "\"\"\")\n",
    "GPUsoftmax = program.gpu_softmax\n",
    "GPUsoftmax(predict_dev, local_size=(1,1), global_size=predict_dev.shape)\n",
    "predict_dev"
   ]
  },
  {
   "cell_type": "markdown",
   "metadata": {},
   "source": [
    "Summary"
   ]
  },
  {
   "cell_type": "code",
   "execution_count": 742,
   "metadata": {},
   "outputs": [
    {
     "data": {
      "text/plain": [
       "array([[  9.33410004e-02,   1.07645174e-03,   2.18172297e-01, ...,\n",
       "          3.29565793e-01,   1.62964657e-01,   7.62007236e-02],\n",
       "       [  2.72556627e-03,   1.32118922e-03,   9.06981230e-01, ...,\n",
       "          4.39324006e-02,   1.09446961e-02,   6.54740084e-04],\n",
       "       [  2.17844978e-01,   1.45267113e-03,   1.59617916e-01, ...,\n",
       "          5.70728490e-03,   3.51215184e-01,   5.89348492e-04],\n",
       "       ..., \n",
       "       [  5.14842896e-03,   7.49961194e-03,  -2.80558884e-01, ...,\n",
       "          1.18471928e-01,   1.74991158e-03,   1.01075498e-02],\n",
       "       [  4.52455861e-05,   3.93370690e-04,   6.51068211e-01, ...,\n",
       "          4.26313467e-02,   9.34747804e-04,   2.30411533e-04],\n",
       "       [  4.92520891e-02,   7.53213465e-03,   1.07967839e-01, ...,\n",
       "         -9.85917568e-01,   4.26144950e-04,   6.46910295e-02]], dtype=float32)"
      ]
     },
     "execution_count": 742,
     "metadata": {},
     "output_type": "execute_result"
    }
   ],
   "source": [
    "batchIdx = getRandBatch()\n",
    "batchTrain = X_train[batchIdx,:].astype(np.float32)\n",
    "batchTrain_dev = thr.to_device(batchTrain)\n",
    "\n",
    "batchTrainLabels = y_train[batchIdx,:].astype(np.float32)\n",
    "batchTrainLabels_dev = thr.to_device(batchTrainLabels)\n",
    "\n",
    "GPU_randomSet(counters_dev, NN_dev)\n",
    "# GPUrearrange(NN_dev, (np.float32)(0), (np.float32)(0.1), local_size=(1,1), global_size=NN_dev.shape)\n",
    "\n",
    "GPUfeedforward(predict_dev, batchTrain_dev, NN_dev)\n",
    "GPUsoftmax(predict_dev, local_size=(1,1), global_size=predict_dev.shape)\n",
    "\n",
    "'calculate errors cross entropy'\n",
    "errors_dev=(predict_dev-batchTrainLabels_dev)\n",
    "errors_dev"
   ]
  },
  {
   "cell_type": "markdown",
   "metadata": {},
   "source": [
    "## 2. Set up BP"
   ]
  },
  {
   "cell_type": "code",
   "execution_count": 743,
   "metadata": {},
   "outputs": [
    {
     "data": {
      "text/plain": [
       "10248.24"
      ]
     },
     "execution_count": 743,
     "metadata": {},
     "output_type": "execute_result"
    }
   ],
   "source": [
    "'set up a GPU errors back fun'\n",
    "errors_back_dev = thr.array((layers[0],layers[-1]), dtype=np.float32)\n",
    "\n",
    "GPUerrorsBack = MatrixMul(batchTrain_dev, errors_dev, out_arr=errors_back_dev, transposed_a=True).compile(thr)\n",
    "GPUerrorsBack(errors_back_dev, batchTrain_dev, errors_dev)\n",
    "errors_back_dev.get().max()"
   ]
  },
  {
   "cell_type": "code",
   "execution_count": 744,
   "metadata": {},
   "outputs": [
    {
     "data": {
      "text/plain": [
       "<pyopencl.cffi_cl.Event at 0x138f2a58>"
      ]
     },
     "execution_count": 744,
     "metadata": {},
     "output_type": "execute_result"
    }
   ],
   "source": [
    "GPU_randomSet(counters_dev, NN_dev)\n",
    "GPUrearrange(NN_dev, (np.float32)(0), (np.float32)(0.1), local_size=(1,1), global_size=NN_dev.shape)"
   ]
  },
  {
   "cell_type": "code",
   "execution_count": 745,
   "metadata": {
    "scrolled": true
   },
   "outputs": [
    {
     "name": "stdout",
     "output_type": "stream",
     "text": [
      "9.905\n",
      "9.91833333333\n"
     ]
    },
    {
     "ename": "KeyboardInterrupt",
     "evalue": "",
     "output_type": "error",
     "traceback": [
      "\u001b[1;31m---------------------------------------------------------------------------\u001b[0m",
      "\u001b[1;31mKeyboardInterrupt\u001b[0m                         Traceback (most recent call last)",
      "\u001b[1;32m<ipython-input-745-7fbc62a92835>\u001b[0m in \u001b[0;36m<module>\u001b[1;34m()\u001b[0m\n\u001b[0;32m     17\u001b[0m     \u001b[0mGPUerrorsBack\u001b[0m\u001b[1;33m(\u001b[0m\u001b[0merrors_back_dev\u001b[0m\u001b[1;33m,\u001b[0m \u001b[0mbatchTrain_dev\u001b[0m\u001b[1;33m,\u001b[0m \u001b[0merrors_dev\u001b[0m\u001b[1;33m)\u001b[0m\u001b[1;33m\u001b[0m\u001b[0m\n\u001b[0;32m     18\u001b[0m     \u001b[0merrors_mean_dev\u001b[0m\u001b[1;33m=\u001b[0m\u001b[0merrors_back_dev\u001b[0m\u001b[1;33m/\u001b[0m\u001b[0mbatchSize\u001b[0m\u001b[1;33m\u001b[0m\u001b[0m\n\u001b[1;32m---> 19\u001b[1;33m     \u001b[0mNN_dev\u001b[0m\u001b[1;33m+=\u001b[0m \u001b[0mlr\u001b[0m \u001b[1;33m*\u001b[0m \u001b[0merrors_mean_dev\u001b[0m\u001b[1;33m\u001b[0m\u001b[0m\n\u001b[0m\u001b[0;32m     20\u001b[0m     \u001b[1;32mif\u001b[0m \u001b[0mi\u001b[0m\u001b[1;33m%\u001b[0m\u001b[1;36m100\u001b[0m \u001b[1;33m==\u001b[0m \u001b[1;36m0\u001b[0m\u001b[1;33m:\u001b[0m\u001b[1;33m\u001b[0m\u001b[0m\n\u001b[0;32m     21\u001b[0m         \u001b[0mprint\u001b[0m\u001b[1;33m(\u001b[0m\u001b[1;33m(\u001b[0m\u001b[0mnp\u001b[0m\u001b[1;33m.\u001b[0m\u001b[0margmax\u001b[0m\u001b[1;33m(\u001b[0m\u001b[0mpredict_dev\u001b[0m\u001b[1;33m.\u001b[0m\u001b[0mget\u001b[0m\u001b[1;33m(\u001b[0m\u001b[1;33m)\u001b[0m\u001b[1;33m,\u001b[0m\u001b[1;36m1\u001b[0m\u001b[1;33m)\u001b[0m\u001b[1;33m==\u001b[0m\u001b[0mnp\u001b[0m\u001b[1;33m.\u001b[0m\u001b[0margmax\u001b[0m\u001b[1;33m(\u001b[0m\u001b[0mbatchTrainLabels\u001b[0m\u001b[1;33m,\u001b[0m\u001b[1;36m1\u001b[0m\u001b[1;33m)\u001b[0m\u001b[1;33m)\u001b[0m\u001b[1;33m.\u001b[0m\u001b[0msum\u001b[0m\u001b[1;33m(\u001b[0m\u001b[1;33m)\u001b[0m\u001b[1;33m/\u001b[0m\u001b[0mbatchSize\u001b[0m\u001b[1;33m*\u001b[0m\u001b[1;36m100\u001b[0m\u001b[1;33m)\u001b[0m\u001b[1;33m\u001b[0m\u001b[0m\n",
      "\u001b[1;32mc:\\users\\kojima\\appdata\\local\\programs\\python\\python35\\lib\\site-packages\\pyopencl\\array.py\u001b[0m in \u001b[0;36m__iadd__\u001b[1;34m(self, other)\u001b[0m\n\u001b[0;32m    905\u001b[0m                     self._axpbyz(self,\n\u001b[0;32m    906\u001b[0m                         \u001b[0mself\u001b[0m\u001b[1;33m.\u001b[0m\u001b[0mdtype\u001b[0m\u001b[1;33m.\u001b[0m\u001b[0mtype\u001b[0m\u001b[1;33m(\u001b[0m\u001b[1;36m1\u001b[0m\u001b[1;33m)\u001b[0m\u001b[1;33m,\u001b[0m \u001b[0mself\u001b[0m\u001b[1;33m,\u001b[0m\u001b[1;33m\u001b[0m\u001b[0m\n\u001b[1;32m--> 907\u001b[1;33m                         other.dtype.type(1), other))\n\u001b[0m\u001b[0;32m    908\u001b[0m             \u001b[1;32mreturn\u001b[0m \u001b[0mself\u001b[0m\u001b[1;33m\u001b[0m\u001b[0m\n\u001b[0;32m    909\u001b[0m         \u001b[1;32melse\u001b[0m\u001b[1;33m:\u001b[0m\u001b[1;33m\u001b[0m\u001b[0m\n",
      "\u001b[1;32mc:\\users\\kojima\\appdata\\local\\programs\\python\\python35\\lib\\site-packages\\pyopencl\\array.py\u001b[0m in \u001b[0;36madd_event\u001b[1;34m(self, evt)\u001b[0m\n\u001b[0;32m   1347\u001b[0m         \u001b[1;32mif\u001b[0m \u001b[0mlen\u001b[0m\u001b[1;33m(\u001b[0m\u001b[0mself\u001b[0m\u001b[1;33m.\u001b[0m\u001b[0mevents\u001b[0m\u001b[1;33m)\u001b[0m \u001b[1;33m>\u001b[0m \u001b[1;36m3\u001b[0m\u001b[1;33m*\u001b[0m\u001b[0mn_wait\u001b[0m\u001b[1;33m:\u001b[0m\u001b[1;33m\u001b[0m\u001b[0m\n\u001b[0;32m   1348\u001b[0m             \u001b[0mwait_events\u001b[0m \u001b[1;33m=\u001b[0m \u001b[0mself\u001b[0m\u001b[1;33m.\u001b[0m\u001b[0mevents\u001b[0m\u001b[1;33m[\u001b[0m\u001b[1;33m:\u001b[0m\u001b[0mn_wait\u001b[0m\u001b[1;33m]\u001b[0m\u001b[1;33m\u001b[0m\u001b[0m\n\u001b[1;32m-> 1349\u001b[1;33m             \u001b[0mcl\u001b[0m\u001b[1;33m.\u001b[0m\u001b[0mwait_for_events\u001b[0m\u001b[1;33m(\u001b[0m\u001b[0mwait_events\u001b[0m\u001b[1;33m)\u001b[0m\u001b[1;33m\u001b[0m\u001b[0m\n\u001b[0m\u001b[0;32m   1350\u001b[0m             \u001b[1;32mdel\u001b[0m \u001b[0mself\u001b[0m\u001b[1;33m.\u001b[0m\u001b[0mevents\u001b[0m\u001b[1;33m[\u001b[0m\u001b[1;33m:\u001b[0m\u001b[0mn_wait\u001b[0m\u001b[1;33m]\u001b[0m\u001b[1;33m\u001b[0m\u001b[0m\n\u001b[0;32m   1351\u001b[0m \u001b[1;33m\u001b[0m\u001b[0m\n",
      "\u001b[1;32mc:\\users\\kojima\\appdata\\local\\programs\\python\\python35\\lib\\site-packages\\pyopencl\\cffi_cl.py\u001b[0m in \u001b[0;36mwait_for_events\u001b[1;34m(wait_for)\u001b[0m\n\u001b[0;32m   2103\u001b[0m \u001b[1;33m\u001b[0m\u001b[0m\n\u001b[0;32m   2104\u001b[0m \u001b[1;32mdef\u001b[0m \u001b[0mwait_for_events\u001b[0m\u001b[1;33m(\u001b[0m\u001b[0mwait_for\u001b[0m\u001b[1;33m)\u001b[0m\u001b[1;33m:\u001b[0m\u001b[1;33m\u001b[0m\u001b[0m\n\u001b[1;32m-> 2105\u001b[1;33m     \u001b[0m_handle_error\u001b[0m\u001b[1;33m(\u001b[0m\u001b[0m_lib\u001b[0m\u001b[1;33m.\u001b[0m\u001b[0mwait_for_events\u001b[0m\u001b[1;33m(\u001b[0m\u001b[1;33m*\u001b[0m\u001b[0m_clobj_list\u001b[0m\u001b[1;33m(\u001b[0m\u001b[0mwait_for\u001b[0m\u001b[1;33m)\u001b[0m\u001b[1;33m)\u001b[0m\u001b[1;33m)\u001b[0m\u001b[1;33m\u001b[0m\u001b[0m\n\u001b[0m\u001b[0;32m   2106\u001b[0m \u001b[1;33m\u001b[0m\u001b[0m\n\u001b[0;32m   2107\u001b[0m \u001b[1;33m\u001b[0m\u001b[0m\n",
      "\u001b[1;31mKeyboardInterrupt\u001b[0m: "
     ]
    }
   ],
   "source": [
    "lr = 1e-3\n",
    "batchTrain_dev = thr.to_device(X_train[:,:].astype(np.float32))\n",
    "batchTrainLabels_dev = thr.to_device(y_train[:,:].astype(np.float32))\n",
    "for i in range(1000):\n",
    "#     batchIdx = getRandBatch()\n",
    "#     batchTrain = X_train[batchIdx,:].astype(np.float32)\n",
    "#     batchTrain_dev = thr.to_device(batchTrain)\n",
    "\n",
    "#     batchTrainLabels = y_train[batchIdx,:].astype(np.float32)\n",
    "#     batchTrainLabels_dev = thr.to_device(batchTrainLabels)\n",
    "\n",
    "    GPUfeedforward(predict_dev, batchTrain_dev, NN_dev)\n",
    "    GPUsoftmax(predict_dev, local_size=(1,1), global_size=predict_dev.shape)\n",
    "\n",
    "    'calculate errors cross entropy'\n",
    "    errors_dev=batchTrainLabels_dev-predict_dev\n",
    "    GPUerrorsBack(errors_back_dev, batchTrain_dev, errors_dev)\n",
    "    errors_mean_dev=errors_back_dev/batchSize\n",
    "    NN_dev+= lr * errors_mean_dev\n",
    "    if i%100 == 0:\n",
    "        print((np.argmax(predict_dev.get(),1)==np.argmax(batchTrainLabels,1)).sum()/batchSize*100)"
   ]
  },
  {
   "cell_type": "markdown",
   "metadata": {},
   "source": [
    "## 3. make a CPU version"
   ]
  },
  {
   "cell_type": "code",
   "execution_count": null,
   "metadata": {},
   "outputs": [],
   "source": [
    "def softmax(x):\n",
    "    tmp=np.exp(x-x.max(1).reshape(-1,1))\n",
    "    return tmp/tmp.sum(1).reshape(-1,1)\n",
    "NN=NN_dev.get()"
   ]
  },
  {
   "cell_type": "code",
   "execution_count": 737,
   "metadata": {},
   "outputs": [
    {
     "name": "stdout",
     "output_type": "stream",
     "text": [
      "acc: 88.1983333333\n",
      "acc: 88.2\n",
      "acc: 88.205\n",
      "acc: 88.205\n"
     ]
    },
    {
     "ename": "KeyboardInterrupt",
     "evalue": "",
     "output_type": "error",
     "traceback": [
      "\u001b[1;31m---------------------------------------------------------------------------\u001b[0m",
      "\u001b[1;31mKeyboardInterrupt\u001b[0m                         Traceback (most recent call last)",
      "\u001b[1;32m<ipython-input-737-6a13bdfddb57>\u001b[0m in \u001b[0;36m<module>\u001b[1;34m()\u001b[0m\n\u001b[0;32m      8\u001b[0m \u001b[1;31m#     batchTrainLabels = y_train[batchIdx,:].astype(np.float32)\u001b[0m\u001b[1;33m\u001b[0m\u001b[1;33m\u001b[0m\u001b[0m\n\u001b[0;32m      9\u001b[0m \u001b[1;33m\u001b[0m\u001b[0m\n\u001b[1;32m---> 10\u001b[1;33m     \u001b[0my\u001b[0m \u001b[1;33m=\u001b[0m \u001b[0msoftmax\u001b[0m\u001b[1;33m(\u001b[0m\u001b[0mbatchTrain\u001b[0m\u001b[1;33m.\u001b[0m\u001b[0mdot\u001b[0m\u001b[1;33m(\u001b[0m\u001b[0mNN\u001b[0m\u001b[1;33m)\u001b[0m\u001b[1;33m)\u001b[0m\u001b[1;33m\u001b[0m\u001b[0m\n\u001b[0m\u001b[0;32m     11\u001b[0m     \u001b[0merror\u001b[0m \u001b[1;33m=\u001b[0m \u001b[0mbatchTrainLabels\u001b[0m \u001b[1;33m-\u001b[0m \u001b[0my\u001b[0m\u001b[1;33m\u001b[0m\u001b[0m\n\u001b[0;32m     12\u001b[0m     \u001b[0mNN\u001b[0m \u001b[1;33m+=\u001b[0m \u001b[0mbatchTrain\u001b[0m\u001b[1;33m.\u001b[0m\u001b[0mT\u001b[0m\u001b[1;33m.\u001b[0m\u001b[0mdot\u001b[0m\u001b[1;33m(\u001b[0m\u001b[0merror\u001b[0m\u001b[1;33m)\u001b[0m\u001b[1;33m/\u001b[0m\u001b[1;36m60000\u001b[0m \u001b[1;33m*\u001b[0m \u001b[0mlr\u001b[0m\u001b[1;33m\u001b[0m\u001b[0m\n",
      "\u001b[1;32m<ipython-input-730-00543d177f8f>\u001b[0m in \u001b[0;36msoftmax\u001b[1;34m(x)\u001b[0m\n\u001b[0;32m      1\u001b[0m \u001b[1;32mdef\u001b[0m \u001b[0msoftmax\u001b[0m\u001b[1;33m(\u001b[0m\u001b[0mx\u001b[0m\u001b[1;33m)\u001b[0m\u001b[1;33m:\u001b[0m\u001b[1;33m\u001b[0m\u001b[0m\n\u001b[1;32m----> 2\u001b[1;33m     \u001b[0mtmp\u001b[0m\u001b[1;33m=\u001b[0m\u001b[0mnp\u001b[0m\u001b[1;33m.\u001b[0m\u001b[0mexp\u001b[0m\u001b[1;33m(\u001b[0m\u001b[0mx\u001b[0m\u001b[1;33m-\u001b[0m\u001b[0mx\u001b[0m\u001b[1;33m.\u001b[0m\u001b[0mmax\u001b[0m\u001b[1;33m(\u001b[0m\u001b[1;36m1\u001b[0m\u001b[1;33m)\u001b[0m\u001b[1;33m.\u001b[0m\u001b[0mreshape\u001b[0m\u001b[1;33m(\u001b[0m\u001b[1;33m-\u001b[0m\u001b[1;36m1\u001b[0m\u001b[1;33m,\u001b[0m\u001b[1;36m1\u001b[0m\u001b[1;33m)\u001b[0m\u001b[1;33m)\u001b[0m\u001b[1;33m\u001b[0m\u001b[0m\n\u001b[0m\u001b[0;32m      3\u001b[0m     \u001b[1;32mreturn\u001b[0m \u001b[0mtmp\u001b[0m\u001b[1;33m/\u001b[0m\u001b[0mtmp\u001b[0m\u001b[1;33m.\u001b[0m\u001b[0msum\u001b[0m\u001b[1;33m(\u001b[0m\u001b[1;36m1\u001b[0m\u001b[1;33m)\u001b[0m\u001b[1;33m.\u001b[0m\u001b[0mreshape\u001b[0m\u001b[1;33m(\u001b[0m\u001b[1;33m-\u001b[0m\u001b[1;36m1\u001b[0m\u001b[1;33m,\u001b[0m\u001b[1;36m1\u001b[0m\u001b[1;33m)\u001b[0m\u001b[1;33m\u001b[0m\u001b[0m\n\u001b[0;32m      4\u001b[0m \u001b[0mNN\u001b[0m\u001b[1;33m=\u001b[0m\u001b[0mNN_dev\u001b[0m\u001b[1;33m.\u001b[0m\u001b[0mget\u001b[0m\u001b[1;33m(\u001b[0m\u001b[1;33m)\u001b[0m\u001b[1;33m\u001b[0m\u001b[0m\n\u001b[0;32m      5\u001b[0m \u001b[0msoftmax\u001b[0m\u001b[1;33m(\u001b[0m\u001b[0mNN\u001b[0m\u001b[1;33m)\u001b[0m\u001b[1;33m\u001b[0m\u001b[0m\n",
      "\u001b[1;32mc:\\users\\kojima\\appdata\\local\\programs\\python\\python35\\lib\\site-packages\\numpy\\core\\_methods.py\u001b[0m in \u001b[0;36m_amax\u001b[1;34m(a, axis, out, keepdims)\u001b[0m\n\u001b[0;32m     24\u001b[0m \u001b[1;31m# small reductions\u001b[0m\u001b[1;33m\u001b[0m\u001b[1;33m\u001b[0m\u001b[0m\n\u001b[0;32m     25\u001b[0m \u001b[1;32mdef\u001b[0m \u001b[0m_amax\u001b[0m\u001b[1;33m(\u001b[0m\u001b[0ma\u001b[0m\u001b[1;33m,\u001b[0m \u001b[0maxis\u001b[0m\u001b[1;33m=\u001b[0m\u001b[1;32mNone\u001b[0m\u001b[1;33m,\u001b[0m \u001b[0mout\u001b[0m\u001b[1;33m=\u001b[0m\u001b[1;32mNone\u001b[0m\u001b[1;33m,\u001b[0m \u001b[0mkeepdims\u001b[0m\u001b[1;33m=\u001b[0m\u001b[1;32mFalse\u001b[0m\u001b[1;33m)\u001b[0m\u001b[1;33m:\u001b[0m\u001b[1;33m\u001b[0m\u001b[0m\n\u001b[1;32m---> 26\u001b[1;33m     \u001b[1;32mreturn\u001b[0m \u001b[0mumr_maximum\u001b[0m\u001b[1;33m(\u001b[0m\u001b[0ma\u001b[0m\u001b[1;33m,\u001b[0m \u001b[0maxis\u001b[0m\u001b[1;33m,\u001b[0m \u001b[1;32mNone\u001b[0m\u001b[1;33m,\u001b[0m \u001b[0mout\u001b[0m\u001b[1;33m,\u001b[0m \u001b[0mkeepdims\u001b[0m\u001b[1;33m)\u001b[0m\u001b[1;33m\u001b[0m\u001b[0m\n\u001b[0m\u001b[0;32m     27\u001b[0m \u001b[1;33m\u001b[0m\u001b[0m\n\u001b[0;32m     28\u001b[0m \u001b[1;32mdef\u001b[0m \u001b[0m_amin\u001b[0m\u001b[1;33m(\u001b[0m\u001b[0ma\u001b[0m\u001b[1;33m,\u001b[0m \u001b[0maxis\u001b[0m\u001b[1;33m=\u001b[0m\u001b[1;32mNone\u001b[0m\u001b[1;33m,\u001b[0m \u001b[0mout\u001b[0m\u001b[1;33m=\u001b[0m\u001b[1;32mNone\u001b[0m\u001b[1;33m,\u001b[0m \u001b[0mkeepdims\u001b[0m\u001b[1;33m=\u001b[0m\u001b[1;32mFalse\u001b[0m\u001b[1;33m)\u001b[0m\u001b[1;33m:\u001b[0m\u001b[1;33m\u001b[0m\u001b[0m\n",
      "\u001b[1;31mKeyboardInterrupt\u001b[0m: "
     ]
    }
   ],
   "source": [
    "lr = 1e-4\n",
    "batchTrain = X_train[:,:].astype(np.float32)\n",
    "batchTrainLabels = y_train[:,:].astype(np.float32)\n",
    "for j in range((int)(1e3)):\n",
    "#     batchIdx = getRandBatch()\n",
    "#     batchTrain = X_train[batchIdx,:].astype(np.float32)\n",
    "\n",
    "#     batchTrainLabels = y_train[batchIdx,:].astype(np.float32)\n",
    "    \n",
    "    y = softmax(batchTrain.dot(NN))\n",
    "    error = batchTrainLabels - y\n",
    "    NN += batchTrain.T.dot(error)/60000 * lr\n",
    "    \n",
    "    if (j% 100) == 0:\n",
    "        print(\"acc:\",(np.argmax(y,1)==np.argmax(batchTrainLabels,1)).sum()/60000*100)    "
   ]
  },
  {
   "cell_type": "markdown",
   "metadata": {},
   "source": [
    "CPU is faster than GPU!!!\n",
    "\n",
    "The main reason here is not at GPU, but the data transformation from host to GPU ( to_device() )"
   ]
  },
  {
   "cell_type": "code",
   "execution_count": null,
   "metadata": {
    "collapsed": true
   },
   "outputs": [],
   "source": []
  },
  {
   "cell_type": "code",
   "execution_count": null,
   "metadata": {
    "collapsed": true
   },
   "outputs": [],
   "source": []
  },
  {
   "cell_type": "code",
   "execution_count": null,
   "metadata": {
    "collapsed": true
   },
   "outputs": [],
   "source": []
  },
  {
   "cell_type": "code",
   "execution_count": null,
   "metadata": {
    "collapsed": true
   },
   "outputs": [],
   "source": []
  },
  {
   "cell_type": "code",
   "execution_count": null,
   "metadata": {
    "collapsed": true
   },
   "outputs": [],
   "source": []
  },
  {
   "cell_type": "code",
   "execution_count": null,
   "metadata": {
    "collapsed": true
   },
   "outputs": [],
   "source": []
  },
  {
   "cell_type": "code",
   "execution_count": null,
   "metadata": {
    "collapsed": true
   },
   "outputs": [],
   "source": []
  },
  {
   "cell_type": "code",
   "execution_count": null,
   "metadata": {
    "collapsed": true
   },
   "outputs": [],
   "source": []
  },
  {
   "cell_type": "code",
   "execution_count": null,
   "metadata": {
    "collapsed": true
   },
   "outputs": [],
   "source": []
  },
  {
   "cell_type": "code",
   "execution_count": null,
   "metadata": {
    "collapsed": true
   },
   "outputs": [],
   "source": []
  }
 ],
 "metadata": {
  "kernelspec": {
   "display_name": "Python 3",
   "language": "python",
   "name": "python3"
  },
  "language_info": {
   "codemirror_mode": {
    "name": "ipython",
    "version": 3
   },
   "file_extension": ".py",
   "mimetype": "text/x-python",
   "name": "python",
   "nbconvert_exporter": "python",
   "pygments_lexer": "ipython3",
   "version": "3.5.1"
  }
 },
 "nbformat": 4,
 "nbformat_minor": 2
}

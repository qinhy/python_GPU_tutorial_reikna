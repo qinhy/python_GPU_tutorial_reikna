{
 "cells": [
  {
   "cell_type": "markdown",
   "metadata": {},
   "source": [
    "## 1. What's Genetic Algorithm?\n",
    "pre-reading :https://www.doc.ic.ac.uk/~nd/surprise_96/journal/vol1/hmw/article1.html\n",
    "\n",
    "Basic idea is treating a binary array [1,0,1,1,0] as a gene.\n",
    "\n",
    "To meansure a gene is good or bad, we need to define a environment function. fitness=environment(gene)\n",
    "\n",
    "Create group of genes and make them compete for fitness value. Repeat selection of good gene remains and bad one leaves."
   ]
  },
  {
   "cell_type": "markdown",
   "metadata": {},
   "source": [
    "## 2. Try it on CPU\n",
    "Previuos tutorial's machine leaning was using Backpropagation to find good weights.\n",
    "Here we will try binary weights on it with Genetic Algorithm."
   ]
  },
  {
   "cell_type": "code",
   "execution_count": 27,
   "metadata": {},
   "outputs": [
    {
     "name": "stdout",
     "output_type": "stream",
     "text": [
      "X_train.shape (60000, 784)\n",
      "y_train.shape (60000,)\n"
     ]
    }
   ],
   "source": [
    "'set up MNIST data sets'\n",
    "from keras.datasets import mnist\n",
    "from keras.utils import np_utils\n",
    "\n",
    "# set up MNIST data sets, required keras lib\n",
    "(X_train, y_train), (X_test, y_test) = mnist.load_data()\n",
    "X_train = X_train.reshape(60000, 784)/255.0\n",
    "X_test = X_test.reshape(10000, 784)/255.0\n",
    "\n",
    "print('X_train.shape',X_train.shape)\n",
    "print('y_train.shape',y_train.shape)"
   ]
  },
  {
   "cell_type": "code",
   "execution_count": 30,
   "metadata": {},
   "outputs": [],
   "source": [
    "import numpy as np\n",
    "'set up Neural Networks, a NN can consider as a individual has many rows of gene'\n",
    "layers = [784,10]\n",
    "NN = np.random.randint(0,2,layers)"
   ]
  },
  {
   "cell_type": "code",
   "execution_count": 31,
   "metadata": {},
   "outputs": [
    {
     "data": {
      "text/plain": [
       "12.770000000000001"
      ]
     },
     "execution_count": 31,
     "metadata": {},
     "output_type": "execute_result"
    }
   ],
   "source": [
    "'environment fun only calculate the accuracy, we even do not need softmax fun'\n",
    "def environment(individual):\n",
    "    return (np.argmax(X_train.dot(individual),1)==y_train).sum()/len(y_train)*100\n",
    "environment(NN)"
   ]
  },
  {
   "cell_type": "code",
   "execution_count": 35,
   "metadata": {
    "scrolled": true
   },
   "outputs": [
    {
     "data": {
      "text/plain": [
       "array([  9.51166667,   7.31333333,   6.88833333,   9.84333333,\n",
       "        12.40166667,   6.64166667,   7.475     ,  12.80333333,\n",
       "        10.21333333,   7.90166667,   3.92666667,  15.03166667,\n",
       "         9.89666667,  12.795     ,   9.73166667,   9.07      ,\n",
       "        12.21666667,   8.96      ,  10.66333333,   9.29166667,\n",
       "         8.065     ,   8.43666667,  13.74833333,   7.68      ,\n",
       "        12.75666667,   8.67      ,  10.325     ,   8.045     ,\n",
       "        11.43333333,   4.15333333,   9.27666667,   9.55833333,\n",
       "         4.66333333,  17.10666667,  15.95      ,  10.89833333,\n",
       "        13.06      ,  11.32666667,  14.66166667,  10.93      ,\n",
       "        21.075     ,   9.11166667,  10.325     ,   8.52666667,\n",
       "        14.30666667,   5.13      ,   8.11666667,   8.21166667,\n",
       "        10.87666667,   7.59666667,  12.875     ,  16.14333333,\n",
       "        10.7       ,   8.535     ,   8.98      ,  10.765     ,\n",
       "        10.23833333,   4.885     ,   8.60833333,   9.69666667,\n",
       "        11.795     ,   8.78333333,   6.42      ,   4.95333333,\n",
       "        13.155     ,  19.195     ,   5.32833333,   8.2       ,\n",
       "         9.64666667,   7.10333333,   8.83333333,  11.40166667,\n",
       "        10.25833333,   9.18333333,   9.505     ,   4.42666667,\n",
       "        15.87166667,   8.56666667,   7.33333333,   9.305     ,\n",
       "        18.29833333,   7.07      ,   6.12      ,  10.435     ,\n",
       "         8.60166667,  12.21166667,  10.34833333,   7.08666667,\n",
       "        11.03333333,   9.98333333,  12.80166667,  10.58166667,\n",
       "        12.59166667,   6.65      ,  10.05666667,  10.73333333,\n",
       "        12.02      ,  13.53833333,   8.25166667,   9.375     ])"
      ]
     },
     "execution_count": 35,
     "metadata": {},
     "output_type": "execute_result"
    }
   ],
   "source": [
    "'group of individuals can be wrote as 3-dimension matrix'\n",
    "population = 100\n",
    "layers = [100, 784, 10]\n",
    "NNs = np.random.randint(0,2,layers)\n",
    "'get group fitness'\n",
    "all_fitness=np.asarray([environment(i) for i in NNs])\n",
    "all_fitness"
   ]
  },
  {
   "cell_type": "markdown",
   "metadata": {},
   "source": [
    "Above shows that some random individuals have high score, some are not. Next, we will performce crossover, mutation, selection on individuals for every generation."
   ]
  },
  {
   "cell_type": "markdown",
   "metadata": {},
   "source": [
    "### crossover"
   ]
  },
  {
   "cell_type": "code",
   "execution_count": 38,
   "metadata": {},
   "outputs": [
    {
     "data": {
      "text/plain": [
       "array([[ True,  True,  True, ...,  True, False,  True],\n",
       "       [False,  True, False, ...,  True,  True,  True],\n",
       "       [ True, False, False, ...,  True, False, False],\n",
       "       ..., \n",
       "       [False, False, False, ...,  True, False, False],\n",
       "       [False, False, False, ..., False,  True, False],\n",
       "       [False, False, False, ...,  True,  True,  True]], dtype=bool)"
      ]
     },
     "execution_count": 38,
     "metadata": {},
     "output_type": "execute_result"
    }
   ],
   "source": [
    "\"crossover two individuals and get one child. \"\n",
    "\"At here we randomly crossover two individuals' genes by a probability, so we need a probability matrix has some shape as individual\"\n",
    "crossover_rate = 0.5 # if probability over it, performce crossover.\n",
    "crossover_probability_mat = np.random.rand(*layers[1:])\n",
    "crossover_probability_mat>crossover_rate"
   ]
  },
  {
   "cell_type": "code",
   "execution_count": 41,
   "metadata": {},
   "outputs": [
    {
     "data": {
      "text/plain": [
       "array([[1, 0, 0, ..., 1, 0, 1],\n",
       "       [1, 1, 0, ..., 1, 1, 0],\n",
       "       [1, 1, 0, ..., 0, 0, 0],\n",
       "       ..., \n",
       "       [1, 1, 1, ..., 0, 1, 1],\n",
       "       [0, 0, 0, ..., 0, 0, 0],\n",
       "       [0, 1, 0, ..., 1, 0, 0]])"
      ]
     },
     "execution_count": 41,
     "metadata": {},
     "output_type": "execute_result"
    }
   ],
   "source": [
    "'Above true or false matrix is a mask : if true, get gene from individual A; if false, get gene from individual B '\n",
    "A = NNs[0]; B = NNs[1]\n",
    "crossover_mask = crossover_probability_mat>crossover_rate\n",
    "child = A*crossover_mask + B*(1-crossover_mask)\n",
    "child"
   ]
  },
  {
   "cell_type": "markdown",
   "metadata": {},
   "source": [
    "### mutation"
   ]
  },
  {
   "cell_type": "code",
   "execution_count": 43,
   "metadata": {},
   "outputs": [
    {
     "data": {
      "text/plain": [
       "array([[1, 0, 0, ..., 1, 1, 1],\n",
       "       [0, 0, 0, ..., 1, 0, 0],\n",
       "       [1, 0, 0, ..., 1, 1, 0],\n",
       "       ..., \n",
       "       [0, 1, 1, ..., 0, 0, 1],\n",
       "       [1, 1, 1, ..., 1, 0, 1],\n",
       "       [0, 0, 0, ..., 0, 0, 1]])"
      ]
     },
     "execution_count": 43,
     "metadata": {},
     "output_type": "execute_result"
    }
   ],
   "source": [
    "\"Mutation is very similar to crossover. An individual's each gene has a chance to mutate to 0 or 1.\"\n",
    "\"The way of above's mask can works here samely.\"\n",
    "mutation_rate = 0.05\n",
    "mutation_probability_mat = np.random.rand(*layers[1:])\n",
    "mutation_mask = mutation_probability_mat>crossover_rate\n",
    "\n",
    "mutation_gene = np.random.randint(0,2,layers[1:])\n",
    "A_mutated = A*mutation_mask + mutation_gene*(1-mutation_mask)\n",
    "A_mutated"
   ]
  },
  {
   "cell_type": "markdown",
   "metadata": {},
   "source": [
    "### selection"
   ]
  },
  {
   "cell_type": "code",
   "execution_count": null,
   "metadata": {
    "collapsed": true
   },
   "outputs": [],
   "source": [
    "\"Selection is a random process. Higher score individual has a higher selection probability. But for upper rank elite, we select directory.\"\n",
    "elite_num = 5\n",
    "rank_idx = np.sort()0\n",
    "selected = []\n",
    "\n",
    "sub_fitness = all_fitness[]\n",
    "select_probability = all_fitness/all_fitness.sum()\n"
   ]
  },
  {
   "cell_type": "code",
   "execution_count": null,
   "metadata": {
    "collapsed": true
   },
   "outputs": [],
   "source": []
  },
  {
   "cell_type": "code",
   "execution_count": null,
   "metadata": {
    "collapsed": true
   },
   "outputs": [],
   "source": []
  },
  {
   "cell_type": "code",
   "execution_count": null,
   "metadata": {
    "collapsed": true
   },
   "outputs": [],
   "source": []
  },
  {
   "cell_type": "code",
   "execution_count": null,
   "metadata": {
    "collapsed": true
   },
   "outputs": [],
   "source": []
  },
  {
   "cell_type": "code",
   "execution_count": null,
   "metadata": {
    "collapsed": true
   },
   "outputs": [],
   "source": []
  },
  {
   "cell_type": "code",
   "execution_count": null,
   "metadata": {
    "collapsed": true
   },
   "outputs": [],
   "source": []
  },
  {
   "cell_type": "code",
   "execution_count": null,
   "metadata": {
    "collapsed": true
   },
   "outputs": [],
   "source": []
  },
  {
   "cell_type": "code",
   "execution_count": null,
   "metadata": {
    "collapsed": true
   },
   "outputs": [],
   "source": []
  }
 ],
 "metadata": {
  "kernelspec": {
   "display_name": "Python 3",
   "language": "python",
   "name": "python3"
  },
  "language_info": {
   "codemirror_mode": {
    "name": "ipython",
    "version": 3
   },
   "file_extension": ".py",
   "mimetype": "text/x-python",
   "name": "python",
   "nbconvert_exporter": "python",
   "pygments_lexer": "ipython3",
   "version": "3.5.1"
  }
 },
 "nbformat": 4,
 "nbformat_minor": 2
}

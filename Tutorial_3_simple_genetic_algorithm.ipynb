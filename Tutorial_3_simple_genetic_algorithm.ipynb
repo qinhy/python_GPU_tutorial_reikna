{
 "cells": [
  {
   "cell_type": "markdown",
   "metadata": {},
   "source": [
    "## 1. What's Genetic Algorithm?\n",
    "pre-reading :https://www.doc.ic.ac.uk/~nd/surprise_96/journal/vol1/hmw/article1.html\n",
    "\n",
    "Basic idea is treating a binary array [1,0,1,1,0] as a gene.\n",
    "\n",
    "To meansure a gene is good or bad, we need to define a environment function. fitness=environment(gene)\n",
    "\n",
    "Create group of genes and make them compete for fitness value. Repeat selection of good gene remains and bad one leaves."
   ]
  },
  {
   "cell_type": "markdown",
   "metadata": {},
   "source": [
    "## 2. Try it on CPU\n",
    "Previuos tutorial's machine leaning was using Backpropagation to find good weights.\n",
    "Here we will try binary weights on it with Genetic Algorithm."
   ]
  },
  {
   "cell_type": "code",
   "execution_count": 511,
   "metadata": {
    "collapsed": false
   },
   "outputs": [
    {
     "name": "stdout",
     "output_type": "stream",
     "text": [
      "X_train.shape (60000, 784)\n",
      "y_train.shape (60000,)\n"
     ]
    }
   ],
   "source": [
    "'set up MNIST data sets'\n",
    "from keras.datasets import mnist\n",
    "from keras.utils import np_utils\n",
    "\n",
    "# set up MNIST data sets, required keras lib\n",
    "(X_train, y_train), (X_test, y_test) = mnist.load_data()\n",
    "X_train = X_train.reshape(60000, 784)/255.0\n",
    "X_test = X_test.reshape(10000, 784)/255.0\n",
    "\n",
    "print('X_train.shape',X_train.shape)\n",
    "print('y_train.shape',y_train.shape)"
   ]
  },
  {
   "cell_type": "code",
   "execution_count": 512,
   "metadata": {
    "collapsed": true
   },
   "outputs": [],
   "source": [
    "'set up Neural Networks, a NN can consider as a individual has many rows of gene'\n",
    "import numpy as np\n",
    "layers = [784,10]\n",
    "NN = np.random.randint(0,2,layers)"
   ]
  },
  {
   "cell_type": "code",
   "execution_count": 513,
   "metadata": {
    "collapsed": false
   },
   "outputs": [
    {
     "data": {
      "text/plain": [
       "10.118333333333334"
      ]
     },
     "execution_count": 513,
     "metadata": {},
     "output_type": "execute_result"
    }
   ],
   "source": [
    "'environment fun only calculate the accuracy, we even do not need softmax fun'\n",
    "def environment(individual):\n",
    "    return (np.argmax(X_train.dot(individual),1)==y_train).sum()/len(y_train)*100\n",
    "environment(NN)"
   ]
  },
  {
   "cell_type": "code",
   "execution_count": 514,
   "metadata": {
    "collapsed": false,
    "scrolled": true
   },
   "outputs": [
    {
     "data": {
      "text/plain": [
       "array([  6.125     ,   7.00333333,   8.60333333,  11.42333333,\n",
       "         8.62666667,   7.30166667,  13.95333333,   9.535     ,\n",
       "         8.93333333,   7.98166667,  11.05333333,   8.645     ,\n",
       "        13.025     ,  11.06166667,  10.41666667,  12.675     ,\n",
       "        11.545     ,   6.68666667,   8.10333333,  10.62833333,\n",
       "         7.545     ,   7.76333333,  11.95166667,   8.515     ,\n",
       "        13.62666667,   9.285     ,   8.07333333,   6.42666667,\n",
       "        10.245     ,   5.94833333,  10.61833333,   7.2       ,\n",
       "         9.275     ,   9.90666667,  10.415     ,   6.685     ,\n",
       "        11.45333333,  11.97166667,  12.135     ,  12.38666667,\n",
       "         8.35833333,   7.69833333,  12.86666667,   9.86833333,\n",
       "         6.25333333,  10.34833333,   7.43833333,   9.43833333,\n",
       "        13.40666667,   9.36166667,   8.78166667,   7.54      ,\n",
       "         7.37666667,   5.70166667,  11.09833333,  12.805     ,\n",
       "         8.4       ,   9.675     ,   7.245     ,  12.30166667,\n",
       "         8.63833333,  13.43      ,   8.15666667,   9.49      ,\n",
       "        10.885     ,   6.75333333,  10.91166667,   7.85333333,\n",
       "        12.97      ,  13.39333333,  13.93      ,   9.82666667,\n",
       "        11.63666667,   9.94666667,   9.07      ,   7.19833333,\n",
       "         9.39833333,   7.67166667,  14.71166667,  12.05333333,\n",
       "         9.965     ,  13.28666667,   7.795     ,   5.41166667,\n",
       "         8.00166667,  11.24666667,   7.615     ,   4.255     ,\n",
       "         8.995     ,  12.42666667,   8.44666667,   3.525     ,\n",
       "        10.96833333,   7.05166667,   6.91333333,  13.85833333,\n",
       "         4.78666667,   9.76666667,   7.3       ,  12.52333333])"
      ]
     },
     "execution_count": 514,
     "metadata": {},
     "output_type": "execute_result"
    }
   ],
   "source": [
    "'group of individuals can be wrote as 3-dimension matrix'\n",
    "population = 100\n",
    "layers = [100, 784, 10]\n",
    "NNs = np.random.randint(0,2,layers)\n",
    "'get group fitness'\n",
    "all_fitness=np.asarray([environment(i) for i in NNs])\n",
    "all_fitness"
   ]
  },
  {
   "cell_type": "markdown",
   "metadata": {},
   "source": [
    "Above shows that some random individuals have high score, some are not. Next, we will performce crossover, mutation, selection on individuals for every generation."
   ]
  },
  {
   "cell_type": "markdown",
   "metadata": {},
   "source": [
    "### crossover"
   ]
  },
  {
   "cell_type": "code",
   "execution_count": 515,
   "metadata": {
    "collapsed": false
   },
   "outputs": [
    {
     "data": {
      "text/plain": [
       "array([[ True,  True, False, ...,  True, False, False],\n",
       "       [False,  True,  True, ...,  True, False, False],\n",
       "       [False,  True, False, ..., False,  True, False],\n",
       "       ..., \n",
       "       [False, False, False, ..., False, False, False],\n",
       "       [False, False,  True, ..., False,  True, False],\n",
       "       [ True, False,  True, ...,  True,  True, False]], dtype=bool)"
      ]
     },
     "execution_count": 515,
     "metadata": {},
     "output_type": "execute_result"
    }
   ],
   "source": [
    "\"crossover two individuals and get one child. \"\n",
    "\"At here we randomly crossover two individuals' genes by a probability, so we need a probability matrix has same shape as individual\"\n",
    "crossover_rate = 0.5 # if probability over than it, performce crossover.\n",
    "crossover_probability_mat = np.random.rand(*layers[1:])\n",
    "crossover_probability_mat>crossover_rate"
   ]
  },
  {
   "cell_type": "code",
   "execution_count": 516,
   "metadata": {
    "collapsed": false
   },
   "outputs": [
    {
     "data": {
      "text/plain": [
       "array([[0, 1, 1, ..., 1, 0, 0],\n",
       "       [1, 1, 1, ..., 1, 1, 0],\n",
       "       [0, 0, 1, ..., 0, 0, 1],\n",
       "       ..., \n",
       "       [1, 1, 1, ..., 0, 0, 0],\n",
       "       [1, 0, 1, ..., 0, 0, 1],\n",
       "       [0, 1, 0, ..., 0, 0, 0]])"
      ]
     },
     "execution_count": 516,
     "metadata": {},
     "output_type": "execute_result"
    }
   ],
   "source": [
    "'Above true or false matrix is a mask : if true, get gene from individual A; if false, get gene from individual B '\n",
    "A = NNs[0]; B = NNs[1]\n",
    "crossover_mask = crossover_probability_mat>crossover_rate\n",
    "child = A*crossover_mask + B*(1-crossover_mask)\n",
    "child"
   ]
  },
  {
   "cell_type": "markdown",
   "metadata": {},
   "source": [
    "### mutation"
   ]
  },
  {
   "cell_type": "code",
   "execution_count": 517,
   "metadata": {
    "collapsed": false
   },
   "outputs": [
    {
     "data": {
      "text/plain": [
       "array([[0, 1, 0, ..., 1, 1, 1],\n",
       "       [1, 1, 1, ..., 1, 0, 1],\n",
       "       [1, 0, 1, ..., 0, 0, 0],\n",
       "       ..., \n",
       "       [1, 1, 1, ..., 0, 1, 1],\n",
       "       [0, 1, 1, ..., 1, 0, 0],\n",
       "       [0, 1, 0, ..., 1, 0, 0]])"
      ]
     },
     "execution_count": 517,
     "metadata": {},
     "output_type": "execute_result"
    }
   ],
   "source": [
    "\"Mutation is very similar to crossover. An individual's each gene has a chance to mutate to 0 or 1.\"\n",
    "\"The way of above's mask can works here samely.\"\n",
    "mutation_rate = 0.05\n",
    "mutation_probability_mat = np.random.rand(*layers[1:])\n",
    "mutation_mask = mutation_probability_mat>crossover_rate\n",
    "\n",
    "mutation_gene = np.random.randint(0,2,layers[1:])\n",
    "A_mutated = A*mutation_mask + mutation_gene*(1-mutation_mask)\n",
    "A_mutated"
   ]
  },
  {
   "cell_type": "markdown",
   "metadata": {},
   "source": [
    "### selection"
   ]
  },
  {
   "cell_type": "code",
   "execution_count": 518,
   "metadata": {
    "collapsed": true
   },
   "outputs": [],
   "source": [
    "\"Selection is a random process. Higher score individual has a higher selection probability. But for upper rank elite, we select directory.\"\n",
    "elite_num = 5\n",
    "rank_idx = np.argsort(all_fitness)\n",
    "selected = rank_idx[:elite_num].tolist()\n",
    "\n",
    "sub_fitness = all_fitness[rank_idx[elite_num:]]\n",
    "select_probability = sub_fitness/sub_fitness.sum()\n",
    "\n",
    "selected += np.random.choice(rank_idx[elite_num:], population-elite_num, p=select_probability).tolist()\n",
    "\n",
    "NNs = NNs[selected]"
   ]
  },
  {
   "cell_type": "markdown",
   "metadata": {
    "collapsed": true
   },
   "source": [
    "Summary"
   ]
  },
  {
   "cell_type": "code",
   "execution_count": 507,
   "metadata": {
    "collapsed": true
   },
   "outputs": [],
   "source": [
    "\"init\"\n",
    "population = 100\n",
    "crossover_num = 20\n",
    "crossover_rate = 0.5\n",
    "mutation_rate = 0.05\n",
    "elite_num = 5\n",
    "\n",
    "layers = [100, 784, 10]\n",
    "NNs = np.random.randint(0,2,layers)\n",
    "'get group fitness'\n",
    "all_fitness=np.asarray([environment(i) for i in NNs])"
   ]
  },
  {
   "cell_type": "code",
   "execution_count": 524,
   "metadata": {
    "collapsed": false,
    "scrolled": true
   },
   "outputs": [
    {
     "name": "stdout",
     "output_type": "stream",
     "text": [
      "crossover cost time: 0.0060002803802490234\n",
      "mutation cost time: 0.04800295829772949\n",
      "calculate fitness cost time: 20.843192100524902\n",
      "selection cost time: 0.003000020980834961\n",
      "0 (top 10): [ 14.71166667  13.95333333  13.93        13.85833333  13.62666667  12.97\n",
      "  12.38666667   7.545        6.25333333   4.78666667]\n",
      "\n"
     ]
    }
   ],
   "source": [
    "import time\n",
    "start = time.time()\n",
    "generations = 1\n",
    "for g in range(generations):\n",
    "    childs=[]\n",
    "    \"crossover\"\n",
    "    for i in range(crossover_num):\n",
    "        A,B = NNs[np.random.randint(0,len(NNs),2)]\n",
    "        crossover_mask = np.random.rand(*layers[1:])<crossover_rate\n",
    "        childs.append( A*crossover_mask + B*(1-crossover_mask) )\n",
    "    print('crossover cost time:',time.time()-start);start = time.time()\n",
    "    \n",
    "    \"mutation\"\n",
    "    mutations = []\n",
    "    for i in range(len(NNs)):\n",
    "        NN = NNs[i]\n",
    "        mutation_mask = np.random.rand(*layers[1:])<mutation_rate\n",
    "        mutation_gene = np.random.randint(0,2,layers[1:])\n",
    "        mutations.append(NN*mutation_mask + mutation_gene*(1-mutation_mask) )\n",
    "        \n",
    "    for NN in childs:\n",
    "        mutation_mask = np.random.rand(*layers[1:])<mutation_rate\n",
    "        mutation_gene = np.random.randint(0,2,layers[1:])\n",
    "        mutations.append(NN*mutation_mask + mutation_gene*(1-mutation_mask) )\n",
    "    print('mutation cost time:',time.time()-start);start = time.time()\n",
    "    \n",
    "    \"calculate fitness\"    \n",
    "    newcomers_fitness = []\n",
    "    newcomers = mutations+childs\n",
    "    for NN in  newcomers:\n",
    "        newcomers_fitness.append( environment(NN) )\n",
    "#         newcomers_fitness.append( GPU_environment_v1(NN) )\n",
    "    \n",
    "    np.append(NNs,np.asarray(newcomers))\n",
    "    np.append(all_fitness,np.asarray(newcomers_fitness))\n",
    "    print('calculate fitness cost time:',time.time()-start);start = time.time()\n",
    "    \n",
    "    \"selection\"    \n",
    "    rank_idx = np.argsort(all_fitness)[::-1] # descend order\n",
    "    selected = rank_idx[:elite_num].tolist()\n",
    "\n",
    "    sub_fitness = all_fitness[rank_idx[elite_num:]]\n",
    "    select_probability = sub_fitness/sub_fitness.sum()\n",
    "\n",
    "    selected += np.random.choice(rank_idx[elite_num:], population-elite_num, p=select_probability).tolist()\n",
    "\n",
    "    NNs = NNs[selected]\n",
    "    print('selection cost time:',time.time()-start);start = time.time()\n",
    "    \n",
    "    print(g,'(top 10):',np.sort(all_fitness[selected[:10]])[::-1])\n",
    "    print()"
   ]
  },
  {
   "cell_type": "markdown",
   "metadata": {
    "collapsed": true
   },
   "source": [
    "Timing shows that calculate fitness cost too much time. Speed up point is make it ran at GPU. In other words, make a GPU version environment fun."
   ]
  },
  {
   "cell_type": "code",
   "execution_count": 525,
   "metadata": {
    "collapsed": false
   },
   "outputs": [
    {
     "name": "stdout",
     "output_type": "stream",
     "text": [
      "Check GPU result with CPU result if they are the same :\n",
      "True\n"
     ]
    }
   ],
   "source": [
    "import reikna.cluda as cluda\n",
    "api = cluda.cuda_api()#ocl_api()#.cuda_api() switch opencl and cuda\n",
    "thr = api.Thread.create()\n",
    "\n",
    "from reikna.linalg import MatrixMul\n",
    "'set up GPU feedforward fun'\n",
    "NN_dev = thr.to_device(NNs[0].astype(np.float32))\n",
    "X_train_dev = thr.to_device(X_train.astype(np.float32))\n",
    "predict_dev = thr.array((len(X_train),layers[-1]), dtype=np.float32)\n",
    "GPUfeedforward = MatrixMul(X_train_dev, NN_dev, out_arr=predict_dev).compile(thr)\n",
    "\n",
    "GPUfeedforward(predict_dev, X_train_dev, NN_dev)\n",
    "print(\"Check GPU result with CPU result if they are the same :\")\n",
    "print(np.linalg.norm(predict_dev.get() - X_train.dot(NN_dev.get())) / np.linalg.norm(X_train.dot(NN_dev.get())) < 1e-6)"
   ]
  },
  {
   "cell_type": "code",
   "execution_count": 526,
   "metadata": {
    "collapsed": false
   },
   "outputs": [
    {
     "data": {
      "text/plain": [
       "12.076666666666666"
      ]
     },
     "execution_count": 526,
     "metadata": {},
     "output_type": "execute_result"
    }
   ],
   "source": [
    "'set our new environment fun, then try it at previous cell'\n",
    "def GPU_environment_v1(individual):\n",
    "    NN_dev = thr.to_device(individual.astype(np.float32))\n",
    "    GPUfeedforward(predict_dev, X_train_dev, NN_dev)\n",
    "    return (np.argmax(predict_dev.get(),1)==y_train).sum()/len(y_train)*100\n",
    "GPU_environment_v1(NN)"
   ]
  },
  {
   "cell_type": "markdown",
   "metadata": {},
   "source": [
    "Result shows GPU_environment_v1's newcomers fitness calculation cost time: 8.741499900817871 at previuos cell"
   ]
  },
  {
   "cell_type": "code",
   "execution_count": 495,
   "metadata": {
    "collapsed": false
   },
   "outputs": [],
   "source": [
    "# \"Timing it\"\n",
    "# def GPU_environment_v1(individual):\n",
    "#     %time NN_dev = thr.to_device(individual.astype(np.float32))\n",
    "#     %time NN_dev.get()\n",
    "#     %time GPUfeedforward(predict_dev, X_train_dev, NN_dev)\n",
    "#     %time tmp=predict_dev.get() \n",
    "#     %time tmp=(np.argmax(tmp,1)==y_train).sum()/len(y_train)*100\n",
    "# GPU_environment_v1(NNs[np.random.randint(0,100,1)])"
   ]
  },
  {
   "cell_type": "code",
   "execution_count": 489,
   "metadata": {
    "collapsed": false
   },
   "outputs": [],
   "source": [
    "# y_train_dev = thr.to_device(y_train.astype(np.int32))\n",
    "# cmop_dev = thr.empty_like(y_train_dev)\n",
    "\n",
    "# program = thr.compile(\"\"\"\n",
    "# KERNEL void gpu_label_comparation(\n",
    "#     GLOBAL_MEM float *predict_dev,\n",
    "#     GLOBAL_MEM int *y_train_dev,\n",
    "#     GLOBAL_MEM int *cmop_dev\n",
    "#     )\n",
    "# {\n",
    "#     const SIZE_T id0 = get_global_id(0);\n",
    "#     const SIZE_T id1 = get_global_id(1);\n",
    "#     if(id1 > 0)return;\n",
    "#     int IDX = id0*get_global_size(1)+id1;\n",
    "#     float maxv = predict_dev[IDX];\n",
    "#     int maxIDX = 0;\n",
    "#     for(int i=1;i<(int)get_global_size(1);i++){\n",
    "#         if(maxv<predict_dev[IDX+i]){\n",
    "#            maxv= predict_dev[IDX+i];\n",
    "#            maxIDX=i;\n",
    "#         }\n",
    "#     }\n",
    "#     cmop_dev[id0] = (maxIDX == y_train_dev[id0]); \n",
    "# }\n",
    "# \"\"\")\n",
    "# GPUcmop = program.gpu_label_comparation\n",
    "# GPUcmop(predict_dev, y_train_dev, cmop_dev, local_size=(1,1), global_size=predict_dev.shape)\n",
    "\n",
    "# print(\"Check GPU result with CPU result if they are the same :\")\n",
    "# tmp=(np.argmax(predict_dev.get(),1)==y_train)\n",
    "# print(np.linalg.norm(cmop_dev.get()-tmp)/np.linalg.norm(tmp) < 1e-6)"
   ]
  },
  {
   "cell_type": "code",
   "execution_count": 490,
   "metadata": {
    "collapsed": false
   },
   "outputs": [],
   "source": [
    "# \"sum up GPU labels' comparation\"\n",
    "# from reikna.algorithms import Reduce, predicate_sum\n",
    "# GPUsum =Reduce(cmop_dev, predicate_sum(np.int32)).compile(thr)\n",
    "# sum_dev = thr.array((1,),dtype=np.int32)"
   ]
  },
  {
   "cell_type": "code",
   "execution_count": 491,
   "metadata": {
    "collapsed": false
   },
   "outputs": [],
   "source": [
    "# \"set up GPU_environment_v2 and Timing it\"\n",
    "# def GPU_environment_v2(individual):\n",
    "#     NN_dev = thr.to_device(individual.astype(np.float32))\n",
    "#     GPUfeedforward(predict_dev, X_train_dev, NN_dev)\n",
    "#     GPUcmop(predict_dev, y_train_dev, cmop_dev, local_size=(1,1), global_size=predict_dev.shape)\n",
    "#     GPUsum(input=cmop_dev,output=sum_dev)\n",
    "#     return sum_dev.get()[0]/len(y_train)*100\n",
    "\n",
    "# def GPU_environment_v2_Timing(individual):\n",
    "#     %time NN_dev = thr.to_device(individual.astype(np.float32))\n",
    "#     %time tmp =NN_dev.get()\n",
    "#     %time GPUfeedforward(predict_dev, X_train_dev, NN_dev)\n",
    "#     %time tmp =predict_dev.get()\n",
    "#     %time GPUcmop(predict_dev, y_train_dev, cmop_dev, local_size=(1,1), global_size=predict_dev.shape)\n",
    "# #     %time tmp =predict_dev.get()\n",
    "#     %time GPUsum(input=cmop_dev,output=sum_dev)\n",
    "#     %time sum_dev.get()[0]/len(y_train)*100\n",
    "# GPU_environment_v2_Timing(NNs[np.random.randint(0,100,1)])"
   ]
  },
  {
   "cell_type": "code",
   "execution_count": null,
   "metadata": {
    "collapsed": true
   },
   "outputs": [],
   "source": []
  },
  {
   "cell_type": "code",
   "execution_count": null,
   "metadata": {
    "collapsed": true
   },
   "outputs": [],
   "source": []
  },
  {
   "cell_type": "code",
   "execution_count": null,
   "metadata": {
    "collapsed": true
   },
   "outputs": [],
   "source": []
  },
  {
   "cell_type": "code",
   "execution_count": null,
   "metadata": {
    "collapsed": true
   },
   "outputs": [],
   "source": []
  },
  {
   "cell_type": "code",
   "execution_count": null,
   "metadata": {
    "collapsed": true
   },
   "outputs": [],
   "source": []
  },
  {
   "cell_type": "code",
   "execution_count": null,
   "metadata": {
    "collapsed": true
   },
   "outputs": [],
   "source": []
  },
  {
   "cell_type": "code",
   "execution_count": null,
   "metadata": {
    "collapsed": true
   },
   "outputs": [],
   "source": []
  },
  {
   "cell_type": "code",
   "execution_count": null,
   "metadata": {
    "collapsed": true
   },
   "outputs": [],
   "source": []
  },
  {
   "cell_type": "code",
   "execution_count": null,
   "metadata": {
    "collapsed": true
   },
   "outputs": [],
   "source": []
  },
  {
   "cell_type": "code",
   "execution_count": null,
   "metadata": {
    "collapsed": true
   },
   "outputs": [],
   "source": []
  },
  {
   "cell_type": "code",
   "execution_count": null,
   "metadata": {
    "collapsed": true
   },
   "outputs": [],
   "source": []
  },
  {
   "cell_type": "code",
   "execution_count": null,
   "metadata": {
    "collapsed": true
   },
   "outputs": [],
   "source": []
  },
  {
   "cell_type": "code",
   "execution_count": null,
   "metadata": {
    "collapsed": true
   },
   "outputs": [],
   "source": []
  },
  {
   "cell_type": "code",
   "execution_count": null,
   "metadata": {
    "collapsed": true
   },
   "outputs": [],
   "source": []
  },
  {
   "cell_type": "code",
   "execution_count": null,
   "metadata": {
    "collapsed": true
   },
   "outputs": [],
   "source": []
  },
  {
   "cell_type": "code",
   "execution_count": null,
   "metadata": {
    "collapsed": true
   },
   "outputs": [],
   "source": []
  },
  {
   "cell_type": "code",
   "execution_count": null,
   "metadata": {
    "collapsed": true
   },
   "outputs": [],
   "source": []
  },
  {
   "cell_type": "code",
   "execution_count": null,
   "metadata": {
    "collapsed": true
   },
   "outputs": [],
   "source": []
  },
  {
   "cell_type": "code",
   "execution_count": null,
   "metadata": {
    "collapsed": true
   },
   "outputs": [],
   "source": []
  }
 ],
 "metadata": {
  "anaconda-cloud": {},
  "kernelspec": {
   "display_name": "Python [default]",
   "language": "python",
   "name": "python3"
  },
  "language_info": {
   "codemirror_mode": {
    "name": "ipython",
    "version": 3
   },
   "file_extension": ".py",
   "mimetype": "text/x-python",
   "name": "python",
   "nbconvert_exporter": "python",
   "pygments_lexer": "ipython3",
   "version": "3.5.2"
  }
 },
 "nbformat": 4,
 "nbformat_minor": 2
}
